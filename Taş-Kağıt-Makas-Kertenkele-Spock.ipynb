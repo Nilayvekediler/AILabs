{
 "cells": [
  {
   "cell_type": "code",
   "execution_count": null,
   "id": "ba35bb5b",
   "metadata": {},
   "outputs": [],
   "source": [
    "import random\n",
    "myList = [1,2,3,4,5]\n",
    "myPoint=0\n",
    "computerPoint=0\n",
    "def gameFun(myCh,comCh):\n",
    "    if myCh == comCh:\n",
    "        print(\"Bu el berabere.\")\n",
    "    elif myChoice ==str(1) and (computerChoice==3 or computerChoice ==4):\n",
    "         print(\"Bu eli kazandın.\") \n",
    "         print(myPoint)\n",
    "    else:\n",
    "        print(\"baska\")\n",
    "print(\"Taş-Kağıt-Makas-Kertenkele-Spock Oyunu'na hoş geldiniz!\")\n",
    "gameInfo = input(\"Oyun kurallarını görmek için 0'a, Oyuna başlamak için 1'e basınız: \")\n",
    "if gameInfo==str(0):\n",
    "    print(\"Taş-Kağıt-Makas-Kertenkele-Spock Oyun Kuralları: Taş için 1, Kağıt için 2, Makas için 3, Kertenkele için 4, Spock için 5'e basınız. Oyun rakiplerden birinin 10 puan almasıyla sonlanacaktır.Beraberlikte iki tarafa da puan verilmezHer adımda kazananana 1 puan verilir.\")\n",
    "else:\n",
    "    myChoice = input(\"Seçiminiz: \")\n",
    "    computerChoice = random.choice(myList)\n",
    "    print(\"Bilgisayarın Seçimi: \"+str(computerChoice))\n",
    "    gameFun(myChoice,computerChoice)\n",
    "    \n"
   ]
  },
  {
   "cell_type": "code",
   "execution_count": null,
   "id": "57a72682",
   "metadata": {},
   "outputs": [],
   "source": []
  },
  {
   "cell_type": "code",
   "execution_count": null,
   "id": "b4c4e700",
   "metadata": {},
   "outputs": [],
   "source": []
  },
  {
   "cell_type": "code",
   "execution_count": null,
   "id": "80955360",
   "metadata": {},
   "outputs": [],
   "source": []
  }
 ],
 "metadata": {
  "kernelspec": {
   "display_name": "Python 3 (ipykernel)",
   "language": "python",
   "name": "python3"
  },
  "language_info": {
   "codemirror_mode": {
    "name": "ipython",
    "version": 3
   },
   "file_extension": ".py",
   "mimetype": "text/x-python",
   "name": "python",
   "nbconvert_exporter": "python",
   "pygments_lexer": "ipython3",
   "version": "3.9.13"
  }
 },
 "nbformat": 4,
 "nbformat_minor": 5
}
